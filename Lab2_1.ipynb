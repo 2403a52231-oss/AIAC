{
  "nbformat": 4,
  "nbformat_minor": 0,
  "metadata": {
    "colab": {
      "provenance": [],
      "authorship_tag": "ABX9TyNkX6GhguCAu6R2xOizUeRs",
      "include_colab_link": true
    },
    "kernelspec": {
      "name": "python3",
      "display_name": "Python 3"
    },
    "language_info": {
      "name": "python"
    }
  },
  "cells": [
    {
      "cell_type": "markdown",
      "metadata": {
        "id": "view-in-github",
        "colab_type": "text"
      },
      "source": [
        "<a href=\"https://colab.research.google.com/github/2403a52231-oss/AIAC/blob/main/Lab2_1.ipynb\" target=\"_parent\"><img src=\"https://colab.research.google.com/assets/colab-badge.svg\" alt=\"Open In Colab\"/></a>"
      ]
    },
    {
      "cell_type": "code",
      "execution_count": null,
      "metadata": {
        "id": "1URFWOOuVegs"
      },
      "outputs": [],
      "source": [
        "TASK 1:\tUse Google Gemini in Colab to write a Python function that reads a list of numbers and calculates the mean, minimum, and maximum values"
      ]
    },
    {
      "cell_type": "code",
      "source": [
        "PROMT:Write python code function that reads\n",
        "a list of numbers and calculates the mean, minimum, and\n",
        "maximum values."
      ],
      "metadata": {
        "id": "OKoSr1spehs6"
      },
      "execution_count": null,
      "outputs": []
    },
    {
      "cell_type": "code",
      "metadata": {
        "colab": {
          "base_uri": "https://localhost:8080/"
        },
        "id": "be1eaa68",
        "outputId": "33da7d32-ddb9-442a-f9fd-af6bd8183ac4"
      },
      "source": [
        "def analyze_numbers(numbers):\n",
        "    \"\"\"\n",
        "    Calculates the mean, minimum, and maximum values of a list of numbers.\n",
        "\n",
        "    Args:\n",
        "        numbers: A list of numbers.\n",
        "\n",
        "    Returns:\n",
        "        A dictionary containing the mean, minimum, and maximum values.\n",
        "        Returns None if the input list is empty.\n",
        "    \"\"\"\n",
        "    if not numbers:\n",
        "        return None\n",
        "\n",
        "    mean = sum(numbers) / len(numbers)\n",
        "    minimum = min(numbers)\n",
        "    maximum = max(numbers)\n",
        "\n",
        "    return {\n",
        "        \"mean\": mean,\n",
        "        \"minimum\": minimum,\n",
        "        \"maximum\": maximum\n",
        "    }\n",
        "\n",
        "# Example usage:\n",
        "my_list = [10, 5, 20, 15, 30]\n",
        "result = analyze_numbers(my_list)\n",
        "\n",
        "if result:\n",
        "    print(f\"Analysis of the list: {result}\")\n",
        "else:\n",
        "    print(\"The list is empty.\")\n",
        "\n",
        "empty_list = []\n",
        "result_empty = analyze_numbers(empty_list)\n",
        "\n",
        "if result_empty:\n",
        "    print(f\"Analysis of the list: {result_empty}\")\n",
        "else:\n",
        "    print(\"The list is empty.\")"
      ],
      "execution_count": null,
      "outputs": [
        {
          "output_type": "stream",
          "name": "stdout",
          "text": [
            "Analysis of the list: {'mean': 16.0, 'minimum': 5, 'maximum': 30}\n",
            "The list is empty.\n"
          ]
        }
      ]
    },
    {
      "cell_type": "markdown",
      "source": [
        "Checks for an empty list: It first checks if the input list numbers is empty. If it is, the function returns None because you can't calculate mean, minimum, or maximum for an empty list.\n",
        "\n",
        "Calculates the mean: If the list is not empty, it calculates the mean (average) of the numbers by summing them up and dividing by the number of elements in the list.\n",
        "\n",
        "Finds the minimum and maximum: It then finds the smallest (minimum) and largest (maximum) values in the list using the built-in min() and max() functions.\n",
        "Returns the results: Finally, it returns the calculated mean, minimum, and maximum values as a dictionary."
      ],
      "metadata": {
        "id": "qMDGFJFFZCeR"
      }
    },
    {
      "cell_type": "markdown",
      "source": [
        "Task 2:Compare Gemini and Copilot outputs for a Python function that checks whether a number is an Armstrong number. Document the steps, prompts, and outputs."
      ],
      "metadata": {
        "id": "5SsLfBUhZ49B"
      }
    },
    {
      "cell_type": "markdown",
      "source": [
        "PROMT:Write Python program function that checks whether a number is an Armstrong number."
      ],
      "metadata": {
        "id": "w8Bw1ALObQbw"
      }
    },
    {
      "cell_type": "code",
      "metadata": {
        "colab": {
          "base_uri": "https://localhost:8080/"
        },
        "id": "11657293",
        "outputId": "4d33a9b3-a6aa-4fe4-d2f2-0997c66685d9"
      },
      "source": [
        "def is_armstrong_number(number):\n",
        "    \"\"\"\n",
        "    Checks if a number is an Armstrong number.\n",
        "\n",
        "    An Armstrong number is a number that is equal to the sum of its own digits\n",
        "    each raised to the power of the number of digits in the number.\n",
        "\n",
        "    Args:\n",
        "        number: An integer.\n",
        "\n",
        "    Returns:\n",
        "        True if the number is an Armstrong number, False otherwise.\n",
        "    \"\"\"\n",
        "    # Convert the number to a string to easily access its digits\n",
        "    num_str = str(number)\n",
        "    num_digits = len(num_str)\n",
        "    armstrong_sum = 0\n",
        "\n",
        "    # Calculate the sum of each digit raised to the power of the number of digits\n",
        "    for digit in num_str:\n",
        "        armstrong_sum += int(digit) ** num_digits\n",
        "\n",
        "    # Check if the sum is equal to the original number\n",
        "    return armstrong_sum == number\n",
        "\n",
        "# Example usage:\n",
        "num1 = 153  # 1**3 + 5**3 + 3**3 = 1 + 125 + 27 = 153\n",
        "num2 = 123  # 1**3 + 2**3 + 3**3 = 1 + 8 + 27 = 36\n",
        "\n",
        "print(f\"{num1} is an Armstrong number: {is_armstrong_number(num1)}\")\n",
        "print(f\"{num2} is an Armstrong number: {is_armstrong_number(num2)}\")"
      ],
      "execution_count": null,
      "outputs": [
        {
          "output_type": "stream",
          "name": "stdout",
          "text": [
            "153 is an Armstrong number: True\n",
            "123 is an Armstrong number: False\n"
          ]
        }
      ]
    },
    {
      "cell_type": "markdown",
      "source": [
        "Converts to string: It first converts the input number to a string so it can easily iterate through its digits.\n",
        "\n",
        "Gets number of digits: It calculates the number of digits in the number.\n",
        "\n",
        "Calculates Armstrong sum: It then iterates through each digit, converts it back to an integer, and raises it to the power of the total number of digits. These results are summed up in armstrong_sum.\n",
        "\n",
        "Compares and returns: Finally, it compares the calculated armstrong_sum with the original number. If they are equal, the function returns True (indicating it's an Armstrong number); otherwise, it returns False."
      ],
      "metadata": {
        "id": "PhxX-TSUdpv7"
      }
    },
    {
      "cell_type": "code",
      "source": [],
      "metadata": {
        "id": "Yu6ggh2CioBK"
      },
      "execution_count": null,
      "outputs": []
    },
    {
      "cell_type": "markdown",
      "source": [
        "![Screenshot 2025-08-11 104150.png](data:image/png;base64,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)"
      ],
      "metadata": {
        "id": "0gqXIWo3jwRw"
      }
    },
    {
      "cell_type": "markdown",
      "source": [
        "![2.png](data:image/png;base64,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)"
      ],
      "metadata": {
        "id": "GY0-pCyjkJcB"
      }
    },
    {
      "cell_type": "code",
      "source": [],
      "metadata": {
        "id": "KVyuc_lCj5md"
      },
      "execution_count": null,
      "outputs": []
    },
    {
      "cell_type": "markdown",
      "source": [
        "COPILOT :In this both codes the copilot was done with the single formula that completes the whole code in 4 or 5 lines{sum(int(digit)**n for digit in digits)}.\n",
        "\n",
        "GEMINI : In gemini the code was very briefly by using formula\n",
        "num1= 1**3 + 5**3 + 3**3 = 1 + 125 + 27 = 153\n",
        "num2= 1**3 + 2**3 + 3**3 = 1 + 8 + 27 = 36 and also if else statements."
      ],
      "metadata": {
        "id": "YCEJ5G11275X"
      }
    },
    {
      "cell_type": "markdown",
      "source": [
        "TASK 3:Ask Gemini to explain a Python function (e.g., is_prime(n) or is_palindrome(s)) line by line.\n",
        "Choose either a prime-checking or palindrome-checking function and document the explanation provided by Gemini.\n"
      ],
      "metadata": {
        "id": "v-azk1dd28h7"
      }
    },
    {
      "cell_type": "markdown",
      "source": [
        "PROMT: write the python program to check the num was is_prime(n) or is_palindrome(s)."
      ],
      "metadata": {
        "id": "tnUon1W03Hk7"
      }
    },
    {
      "cell_type": "code",
      "metadata": {
        "colab": {
          "base_uri": "https://localhost:8080/"
        },
        "id": "061151b7",
        "outputId": "1f6c20d6-e0d1-48fe-c3b8-36cb97ec8f8f"
      },
      "source": [
        "def is_prime(n):\n",
        "    \"\"\"\n",
        "    Checks if a number is a prime number.\n",
        "\n",
        "    A prime number is a natural number greater than 1 that has no positive\n",
        "    divisors other than 1 and itself.\n",
        "\n",
        "    Args:\n",
        "        n: An integer.\n",
        "\n",
        "    Returns:\n",
        "        True if the number is prime, False otherwise.\n",
        "    \"\"\"\n",
        "    if n <= 1:\n",
        "        return False  # Numbers less than or equal to 1 are not prime\n",
        "    if n <= 3:\n",
        "        return True   # 2 and 3 are prime numbers\n",
        "    if n % 2 == 0 or n % 3 == 0:\n",
        "        return False  # Eliminate multiples of 2 and 3\n",
        "\n",
        "    # Check for prime numbers from 5 onwards\n",
        "    # We can check in steps of 6 because all prime numbers greater than 3\n",
        "    # are of the form 6k ± 1\n",
        "    i = 5\n",
        "    while i * i <= n:\n",
        "        if n % i == 0 or n % (i + 2) == 0:\n",
        "            return False\n",
        "        i += 6\n",
        "\n",
        "    return True\n",
        "\n",
        "# Example usage:\n",
        "num_to_check_prime1 = 11\n",
        "num_to_check_prime2 = 15\n",
        "\n",
        "print(f\"{num_to_check_prime1} is prime: {is_prime(num_to_check_prime1)}\")\n",
        "print(f\"{num_to_check_prime2} is prime: {is_prime(num_to_check_prime2)}\")"
      ],
      "execution_count": null,
      "outputs": [
        {
          "output_type": "stream",
          "name": "stdout",
          "text": [
            "11 is prime: True\n",
            "15 is prime: False\n"
          ]
        }
      ]
    },
    {
      "cell_type": "markdown",
      "source": [
        "- Initial Check\n",
        "If n ≤ 1, return False → not prime.\n",
        "- Small Prime Shortcut\n",
        "If n is 2 or 3, return True → prime.\n",
        "- Quick Elimination\n",
        "If divisible by 2 or 3, return False → not prime.\n",
        "- Efficient Divisor Check\n",
        "Start from i = 5, check divisibility by i and i + 2 (i.e., 6k ± 1 pattern).\n",
        "Continue while i * i ≤ n.\n",
        "- Final Decision\n",
        "If no divisors found, return True → it's prime.\n"
      ],
      "metadata": {
        "id": "F_Xw7f9Q5LUo"
      }
    },
    {
      "cell_type": "code",
      "metadata": {
        "colab": {
          "base_uri": "https://localhost:8080/"
        },
        "id": "bfdd81f4",
        "outputId": "f73a30c3-0507-4b08-ffeb-a490e1c4ac2f"
      },
      "source": [
        "def is_palindrome(s):\n",
        "    \"\"\"\n",
        "    Checks if a string is a palindrome.\n",
        "\n",
        "    A palindrome is a string that reads the same forwards and backward.\n",
        "\n",
        "    Args:\n",
        "        s: A string.\n",
        "\n",
        "    Returns:\n",
        "        True if the string is a palindrome, False otherwise.\n",
        "    \"\"\"\n",
        "    # Convert the string to lowercase and remove non-alphanumeric characters\n",
        "    # This makes the check case-insensitive and ignores spaces, punctuation, etc.\n",
        "    cleaned_s = ''.join(char.lower() for char in s if char.isalnum())\n",
        "\n",
        "    # Check if the cleaned string is equal to its reverse\n",
        "    return cleaned_s == cleaned_s[::-1]\n",
        "\n",
        "# Example usage:\n",
        "string_to_check_palindrome1 = \"racecar\"\n",
        "string_to_check_palindrome2 = \"hello\"\n",
        "string_to_check_palindrome3 = \"A man, a plan, a canal: Panama\"\n",
        "\n",
        "print(f\"'{string_to_check_palindrome1}' is a palindrome: {is_palindrome(string_to_check_palindrome1)}\")\n",
        "print(f\"'{string_to_check_palindrome2}' is a palindrome: {is_palindrome(string_to_check_palindrome2)}\")\n",
        "print(f\"'{string_to_check_palindrome3}' is a palindrome: {is_palindrome(string_to_check_palindrome3)}\")"
      ],
      "execution_count": null,
      "outputs": [
        {
          "output_type": "stream",
          "name": "stdout",
          "text": [
            "'racecar' is a palindrome: True\n",
            "'hello' is a palindrome: False\n",
            "'A man, a plan, a canal: Panama' is a palindrome: True\n"
          ]
        }
      ]
    },
    {
      "cell_type": "markdown",
      "source": [
        "- Normalize the string: Convert to lowercase and remove non-alphanumeric characters to ignore case, spaces, and punctuation.\n",
        "- Reverse check: Compare the cleaned string with its reverse using slicing ([::-1]).\n",
        "- Return result: If they match, it's a palindrome (True); otherwise, it's not (False).\n"
      ],
      "metadata": {
        "id": "SazOi2sa6atl"
      }
    },
    {
      "cell_type": "markdown",
      "source": [
        "TASK 4:Install and configure Cursor AI. Use it to generate a Python function (e.g., sum of the first N natural numbers) and test its output.\n",
        "●\tOptionally, compare Cursor AI’s generated code with Gemini’s output.\n"
      ],
      "metadata": {
        "id": "RrcsYkVH6dg0"
      }
    },
    {
      "cell_type": "markdown",
      "source": [
        "PROMT: Write the python program that sum of the first N natural numbers"
      ],
      "metadata": {
        "id": "a85sljGu6s5v"
      }
    },
    {
      "cell_type": "code",
      "metadata": {
        "colab": {
          "base_uri": "https://localhost:8080/"
        },
        "id": "045f93c7",
        "outputId": "0357227e-739a-4275-8361-053a9b844e93"
      },
      "source": [
        "def sum_of_first_n_natural_numbers(n):\n",
        "  \"\"\"\n",
        "  Calculates the sum of the first N natural numbers.\n",
        "\n",
        "  Args:\n",
        "    n: An integer representing the number of natural numbers to sum.\n",
        "\n",
        "  Returns:\n",
        "    The sum of the first N natural numbers.\n",
        "    Returns 0 if n is less than 1.\n",
        "  \"\"\"\n",
        "  if n < 1:\n",
        "    return 0\n",
        "  else:\n",
        "    # The formula for the sum of the first n natural numbers is n * (n + 1) / 2\n",
        "    return n * (n + 1) // 2\n",
        "\n",
        "# Example usage:\n",
        "n_value = 10\n",
        "sum_n = sum_of_first_n_natural_numbers(n_value)\n",
        "print(f\"The sum of the first {n_value} natural numbers is: {sum_n}\")\n",
        "\n",
        "n_value_zero = 0\n",
        "sum_zero = sum_of_first_n_natural_numbers(n_value_zero)\n",
        "print(f\"The sum of the first {n_value_zero} natural numbers is: {sum_zero}\")"
      ],
      "execution_count": null,
      "outputs": [
        {
          "output_type": "stream",
          "name": "stdout",
          "text": [
            "The sum of the first 10 natural numbers is: 55\n",
            "The sum of the first 0 natural numbers is: 0\n"
          ]
        }
      ]
    },
    {
      "cell_type": "markdown",
      "source": [
        "To know the first n natural number the formula was n * (n + 1) // 2 and next code follow by using if else statement and its return the value of the first n number"
      ],
      "metadata": {
        "id": "lFdsG4j47kZd"
      }
    },
    {
      "cell_type": "markdown",
      "source": [
        "TASK 5:Students need to write a Python program to calculate the sum of odd numbers and even numbers in a given tuple.\n",
        "Refactor the code to improve logic and readability.\n"
      ],
      "metadata": {
        "id": "WvLR3_ng93Cf"
      }
    },
    {
      "cell_type": "markdown",
      "source": [
        "PROMT:write the python program that calculate the the sum of odd numbers and even numbers in given tuple."
      ],
      "metadata": {
        "id": "ygul8s09-gJH"
      }
    },
    {
      "cell_type": "code",
      "source": [],
      "metadata": {
        "id": "uq4Xg1-I_LuX"
      },
      "execution_count": null,
      "outputs": []
    },
    {
      "cell_type": "code",
      "metadata": {
        "colab": {
          "base_uri": "https://localhost:8080/"
        },
        "id": "ac64aadc",
        "outputId": "378e2077-d167-4ad2-99f0-a66b6b8658e5"
      },
      "source": [
        "def sum_odd_even_in_tuple(numbers):\n",
        "  \"\"\"\n",
        "  Calculates the sum of odd and even numbers in a tuple.\n",
        "\n",
        "  Args:\n",
        "    numbers: A tuple of numbers.\n",
        "\n",
        "  Returns:\n",
        "    A dictionary containing the sum of odd numbers and the sum of even numbers.\n",
        "  \"\"\"\n",
        "  sum_odd = 0\n",
        "  sum_even = 0\n",
        "\n",
        "  for number in numbers:\n",
        "    if number % 2 == 0:\n",
        "      sum_even += number\n",
        "    else:\n",
        "      sum_odd += number\n",
        "\n",
        "  return {\"sum_odd\": sum_odd, \"sum_even\": sum_even}\n",
        "\n",
        "# Example usage:\n",
        "my_tuple = (1, 2, 3, 4, 5, 6, 7, 8, 9, 10)\n",
        "sums = sum_odd_even_in_tuple(my_tuple)\n",
        "\n",
        "print(f\"Original tuple: {my_tuple}\")\n",
        "print(f\"Sum of odd numbers: {sums['sum_odd']}\")\n",
        "print(f\"Sum of even numbers: {sums['sum_even']}\")\n",
        "\n",
        "empty_tuple = ()\n",
        "sums_empty = sum_odd_even_in_tuple(empty_tuple)\n",
        "print(f\"\\nOriginal tuple: {empty_tuple}\")\n",
        "print(f\"Sum of odd numbers: {sums_empty['sum_odd']}\")\n",
        "print(f\"Sum of even numbers: {sums_empty['sum_even']}\")"
      ],
      "execution_count": null,
      "outputs": [
        {
          "output_type": "stream",
          "name": "stdout",
          "text": [
            "Original tuple: (1, 2, 3, 4, 5, 6, 7, 8, 9, 10)\n",
            "Sum of odd numbers: 25\n",
            "Sum of even numbers: 30\n",
            "\n",
            "Original tuple: ()\n",
            "Sum of odd numbers: 0\n",
            "Sum of even numbers: 0\n"
          ]
        }
      ]
    },
    {
      "cell_type": "markdown",
      "source": [
        "The sum_odd_even_in_tuple function initializes two variables, sum_odd and sum_even, to zero. It then iterates through each number in the input tuple. Inside the loop, it checks if a number is even using the modulo operator (%). If it's even, it's added to sum_even; otherwise (if it's odd), it's added to sum_odd. Finally, the function returns a dictionary containing the total sum_odd and sum_even."
      ],
      "metadata": {
        "id": "89czFan__l-m"
      }
    },
    {
      "cell_type": "markdown",
      "source": [],
      "metadata": {
        "id": "agGojZ4Q_pLY"
      }
    }
  ]
}